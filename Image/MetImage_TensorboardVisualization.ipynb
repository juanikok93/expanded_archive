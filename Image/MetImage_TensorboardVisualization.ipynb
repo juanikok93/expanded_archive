{
 "cells": [
  {
   "cell_type": "markdown",
   "metadata": {},
   "source": [
    "# MetImages Tensorboard Visualization"
   ]
  },
  {
   "cell_type": "markdown",
   "metadata": {},
   "source": [
    "This notebook takes the vector features extracted in MetMuseum_FeatureSearch.ipynb and prepares them to be visualized in Tensorboard. Check tensorboard and tensorflow versions as there might be compatibility issues between versions. My versions are Tensorflow & Tensorboard 1.14.0 \n",
    "\n",
    "Original Kaggle code: https://www.kaggle.com/pavansanagapati/tensorboard-visualisation-of-fashion-items\n",
    "\n",
    "\n",
    "Even more original code without indentation problems: https://nanonets.com/blog/how-to-classify-fashion-images-easily-using-convnets/"
   ]
  },
  {
   "cell_type": "code",
   "execution_count": 1,
   "metadata": {},
   "outputs": [],
   "source": [
    "# Import Numpy for statistical calculations\n",
    "import numpy as np\n",
    "\n",
    "# Import Pandas for data manipulation using dataframes\n",
    "import pandas as pd\n",
    "\n",
    "# Import Warnings \n",
    "import warnings\n",
    "warnings.filterwarnings('ignore')\n",
    "from IPython.display import Image\n",
    "from IPython.core.display import HTML \n",
    "\n",
    "# Import matplotlib Library for data visualisation\n",
    "import matplotlib.pyplot as plt\n",
    "%matplotlib inline\n",
    "import os\n",
    "import tensorflow as tf\n",
    "from tensorflow.contrib.tensorboard.plugins import projector\n",
    "from tensorflow.examples.tutorials.mnist import input_data\n",
    "\n",
    "# Input data files are available in the \"data/\" directory.\n",
    "# For example, running this will list the files in the input directory\n",
    "import os\n"
   ]
  },
  {
   "cell_type": "code",
   "execution_count": 2,
   "metadata": {},
   "outputs": [],
   "source": [
    "import pickle"
   ]
  },
  {
   "cell_type": "code",
   "execution_count": 3,
   "metadata": {},
   "outputs": [
    {
     "name": "stdout",
     "output_type": "stream",
     "text": [
      "image: /storage/MetImages/ml4a-guides/utils/Cropped/f00443_Lady Lilith337500.jpg, features: 6.79,-21.71,1.03,0.84... \n",
      "image: /storage/MetImages/ml4a-guides/utils/Cropped/f00663_Saint Anthony the Abbot in the Wilderness458967.jpg, features: 12.30,-19.85,3.65,6.67... \n",
      "image: /storage/MetImages/ml4a-guides/utils/Cropped/f00093_Block Statue of a Prophet of Montu and Scribe Djedkhonsuefankh, son of Khonsumes and Taat547694.jpg, features: -24.40,23.30,15.20,-16.92... \n",
      "image: /storage/MetImages/ml4a-guides/utils/Cropped/f00265_Encyclop die, ou Dictionnaire raisonn  des sciences, des arts et des m tiers591843.jpg, features: 1.29,-6.06,-8.16,-2.99... \n",
      "image: /storage/MetImages/ml4a-guides/utils/Cropped/f00850_The Love Song435826.jpg, features: 10.73,-27.55,8.71,4.90... \n"
     ]
    }
   ],
   "source": [
    "images, pca_features, pca = pickle.load(open(r\"D:\\Path\\to\\features_MetFeatures.p\", 'rb'))\n",
    "\n",
    "for img, f in list(zip(images, pca_features))[0:5]:\n",
    "    print(\"image: %s, features: %0.2f,%0.2f,%0.2f,%0.2f... \"%(img, f[0], f[1], f[2], f[3]))"
   ]
  },
  {
   "cell_type": "code",
   "execution_count": 4,
   "metadata": {},
   "outputs": [],
   "source": [
    "imgidx = []\n",
    "for i in images:\n",
    "    imgidx.append(i[45:])"
   ]
  },
  {
   "cell_type": "code",
   "execution_count": 5,
   "metadata": {},
   "outputs": [],
   "source": [
    "X_test = pca_features\n",
    "Y_test = np.array(imgidx)"
   ]
  },
  {
   "cell_type": "code",
   "execution_count": 6,
   "metadata": {},
   "outputs": [
    {
     "data": {
      "text/plain": [
       "980"
      ]
     },
     "execution_count": 6,
     "metadata": {},
     "output_type": "execute_result"
    }
   ],
   "source": [
    "X_test.shape[0]"
   ]
  },
  {
   "cell_type": "markdown",
   "metadata": {},
   "source": [
    "### Summary writer"
   ]
  },
  {
   "cell_type": "code",
   "execution_count": 7,
   "metadata": {
    "scrolled": true
   },
   "outputs": [],
   "source": [
    "logdir = 'metviz_logs'\n",
    "\n",
    "# Use this logdir to create a summary writer\n",
    "summary_writer = tf.summary.FileWriter(logdir)"
   ]
  },
  {
   "cell_type": "code",
   "execution_count": 8,
   "metadata": {},
   "outputs": [],
   "source": [
    "# Creating the embedding variable with all the images defined above under X_test\n",
    "embedding_var = tf.Variable(X_test, name='metviz_logs')"
   ]
  },
  {
   "cell_type": "code",
   "execution_count": 9,
   "metadata": {},
   "outputs": [
    {
     "data": {
      "text/plain": [
       "<tf.Variable 'metviz_logs:0' shape=(980, 300) dtype=float32_ref>"
      ]
     },
     "execution_count": 9,
     "metadata": {},
     "output_type": "execute_result"
    }
   ],
   "source": [
    "embedding_var"
   ]
  },
  {
   "cell_type": "code",
   "execution_count": 10,
   "metadata": {},
   "outputs": [],
   "source": [
    "# Format: tensorflow/contrib/tensorboard/plugins/projector/projector_config.proto\n",
    "config = projector.ProjectorConfig()\n",
    "\n",
    "# You can add multiple embeddings. Here I add only one.\n",
    "embedding = config.embeddings.add()\n",
    "embedding.tensor_name = embedding_var.name\n",
    "\n",
    "# Link this tensor to its metadata file (e.g. labels).\n",
    "embedding.metadata_path = os.path.join(logdir, 'metadata.tsv')\n",
    "\n",
    "# After constructing the sprite, I need to tell the Embedding Projector where to find it\n",
    "embedding.sprite.image_path = os.path.join(logdir, 'sprite.png')\n",
    "embedding.sprite.single_image_dim.extend([28, 28])"
   ]
  },
  {
   "cell_type": "code",
   "execution_count": 11,
   "metadata": {},
   "outputs": [],
   "source": [
    "# The next line writes a projector_config.pbtxt in the logdir. TensorBoard will read this file during startup.\n",
    "projector.visualize_embeddings(summary_writer,config)"
   ]
  },
  {
   "cell_type": "code",
   "execution_count": 12,
   "metadata": {},
   "outputs": [],
   "source": [
    "# Periodically save the model variables in a checkpoint in logdir.\n",
    "with tf.Session() as sesh:\n",
    "    sesh.run(tf.global_variables_initializer())\n",
    "    saver = tf.train.Saver()\n",
    "    saver.save(sesh, os.path.join(logdir, 'model.ckpt'))"
   ]
  },
  {
   "cell_type": "markdown",
   "metadata": {},
   "source": [
    "After you have made the sprite and metadata files below, paste both of them into the 'metviz_logs' folder. Then go a folder up, and run the following command in command-prompt:\n",
    "\n",
    "\"tensorboard --logdir=metviz_logs/\"\n",
    "\n",
    "If it finds the directory, it should create a visualization at some localhost port, and allow you to run various visualizations and simulations from the tensorboard interface."
   ]
  },
  {
   "cell_type": "markdown",
   "metadata": {},
   "source": [
    "### Sprite extracting code (taken from somewhere else)"
   ]
  },
  {
   "cell_type": "markdown",
   "metadata": {},
   "source": [
    "The sprite is a file image that takes 28x28 px versions of each artworks and pastes them orderly in a grid. Always try to have an even number of images that can fit in complete rows and columns. Also make sure the order of the sprite thumbnails in the folder and the metadata file made in the next section coincide, as it may lead to a visualization showing incorrect thumbnails."
   ]
  },
  {
   "cell_type": "code",
   "execution_count": 13,
   "metadata": {},
   "outputs": [],
   "source": [
    "from PIL import Image\n",
    "import os, math, time"
   ]
  },
  {
   "cell_type": "code",
   "execution_count": 14,
   "metadata": {},
   "outputs": [],
   "source": [
    "max_frames_row = 31.0\n",
    "frames = []\n",
    "tile_width = 0\n",
    "tile_height = 0\n",
    "\n",
    "spritesheet_width = 0\n",
    "spritesheet_height = 0"
   ]
  },
  {
   "cell_type": "code",
   "execution_count": 15,
   "metadata": {},
   "outputs": [
    {
     "name": "stdout",
     "output_type": "stream",
     "text": [
      "['f00000_f00000_A Basket of Clams12388.jpg', 'f00001_f00001_A Bear Walking459184.jpg', 'f00002_f00002_A Descriptive Atlas of the Cesnola Collection of Cypriote Antiquities in the Metropolitan Museum of Art, New York  1885 1903 591850.jpg', 'f00003_f00003_A Gathering at Wood s Edge337105.jpg', 'f00004_f00004_A Giant Seated in a Landscape, sometimes called  The Colossus 334002.jpg', 'f00005_f00005_A Goldsmith in his Shop459052.jpg', 'f00006_f00006_A Gorge in the Mountains (Kauterskill Clove)10946.jpg', 'f00007_f00007_A Hunting Scene437283.jpg', 'f00008_f00008_A King Offers to Make Amends to a Bereaved Mother , Folio from a Khamsa  Quintet  of Amir Khusrau Dihlavi446560.jpg', 'f00009_f00009_A Knight of the d Aluye Family470599.jpg', 'f00010_f00010_A Muslim Pilgrim Learns a Lesson in Piety from a Brahman , Folio from a Khamsa  Quintet  of Amir Khusrau Dihlavi446563.jpg', 'f00011_f00011_A Rose14931.jpg', 'f00012_f00012_A Stallion453336.jpg', 'f00013_f00013_A Tusk Figurine of a Man547232.jpg', 'f00014_f00014_A Woman Seated beside a Vase of Flowers  Madame Paul Valpin on  436121.jpg', 'f00015_f00015_A. Persii Satyrarum liber I.D. Iunii Iuuenalis Satyrarum lib. V. Supliciae Satyra I   cum veteribus commentarijs nunc primum editis ex bibliotheca P. Pithoei I C. cuius etiam notae quaedam adiectae sunt679629.jpg', 'f00016_f00016_Academie de l espee  ou se domonstrent par reigles math matiques sur le fondement d un cercle myst rieux, la th orie et pratique des vrais . . .591832.jpg', 'f00017_f00017_Accordion503502.jpg', 'f00018_f00018_Adam and Eve336222.jpg', 'f00019_f00019_Adoration of the Magi from Seven Scenes from the Life of Christ469959.jpg', 'f00020_f00020_Adoration of the Magi from Seven Scenes from the Life of Christ472155.jpg', 'f00021_f00021_Adoration of the Shepherds459208.jpg', 'f00022_f00022_Afternoon dress81110.jpg', 'f00023_f00023_Akbar With Lion and Calf , Folio from the Shah Jahan Album451268.jpg', 'f00024_f00024_Akhenaten Sacrificing a Duck544056.jpg', 'f00025_f00025_Album of Tournaments and Parades in Nuremberg25111.jpg', 'f00026_f00026_Allan Melville12613.jpg', 'f00027_f00027_Allegory of the Planets and Continents437790.jpg', 'f00028_f00028_Almanach de Normandie pour l ann e bissext. 1788680318.jpg', 'f00029_f00029_Almanach royal, ann e bissextile M.DCC.LXCII   pr sent  a sa Majeste pour la premiere fois en 1699 par Laurent d Houry679732.jpg', 'f00030_f00030_Altar Frontal with Man of Sorrows and Saints466187.jpg', 'f00031_f00031_Altar Set76974.jpg', 'f00032_f00032_Alto Recorder in F501520.jpg', 'f00033_f00033_Aman Jean  Portrait of Edmond Fran ois Aman Jean 339751.jpg', 'f00034_f00034_Andrew Jackson11789.jpg', 'f00035_f00035_Angels Swinging Censers465991.jpg', 'f00036_f00036_Animal Spouted Pitcher449457.jpg', 'f00037_f00037_Annunciation Triptych  Merode Altarpiece 470304.jpg', 'f00038_f00038_Antelope Head544070.jpg', 'f00039_f00039_Anthologie fran oise, ou, Chansons choisies, depuis le 13a si cle jusqu   pr sent680832.jpg', 'f00040_f00040_Antigraceful485518.jpg', 'f00041_f00041_Antoine Laurent Lavoisier  1743 1794  and His Wife  Marie Anne Pierrette Paulze, 1758 1836 436106.jpg', 'f00042_f00042_Approach to a Mountain Village with Horsemen on the Road459137.jpg', 'f00043_f00043_Approaching Thunder Storm11050.jpg', 'f00044_f00044_Aquamanile in the Form of Aristotle and Phyllis459202.jpg', 'f00045_f00045_Aquamanile in the Form of a Lion469949.jpg', 'f00046_f00046_Aquamanile in the Form of a Mounted Knight468633.jpg', 'f00047_f00047_Archangel Gabriel  The Virgin Annunciate459062.jpg', 'f00048_f00048_Arched Harp  shoulder harp 546194.jpg', 'f00049_f00049_Archlute503613.jpg', 'f00050_f00050_Aristotle with a Bust of Homer437394.jpg', 'f00051_f00051_Arm Panel From a Ceremonial Chair of Thutmose IV544826.jpg', 'f00052_f00052_Armet24686.jpg', 'f00053_f00053_Armlet451447.jpg', 'f00054_f00054_Armor (Gusoku)22521.jpg', 'f00055_f00055_Armor (Gusoku)24975.jpg', 'f00056_f00056_Armor (Yoroi) of Ashikaga Takauji (1305 1358)22506.jpg', 'f00057_f00057_Armor Garniture, Probably of King Henry VIII of England (reigned 1509 47)35775.jpg', 'f00058_f00058_Armor of Emperor Ferdinand I (1503 1564)23944.jpg', 'f00059_f00059_Armor of Henry II, King of France (reigned 1547 59)24671.jpg', 'f00060_f00060_Armor of Infante Luis, Prince of Asturias (1707 1724)24937.jpg', 'f00061_f00061_Armor23205.jpg', 'f00062_f00062_Armorial Plate  tondino   The story of King Midas459198.jpg', 'f00063_f00063_Armorial dish  Supper at the House of Simon the Pharisee459245.jpg', 'f00064_f00064_Armorial tazza459199.jpg', 'f00065_f00065_Arrangement in Flesh Colour and Black1.jpg', 'f00066_f00066_Artist s Gridded Sketch of Senenmut547684.jpg', 'f00067_f00067_Artist s Sketch of Pharaoh Spearing a Lion544076.jpg', 'f00068_f00068_Artistic houses   being a series of interior views of a numb705638.jpg', 'f00069_f00069_Astrolabe of  Umar ibn Yusuf ibn  Umar ibn  Ali ibn Rasul al Muzaffari444408.jpg', 'f00070_f00070_Astronomicum Caesareum337061.jpg', 'f00071_f00071_At the Circus  The Spanish Walk  Au Cirque  Le Pas espagnol 459241.jpg', 'f00072_f00072_At the Seaside10464.jpg', 'f00073_f00073_Autumn Oaks11227.jpg', 'f00074_f00074_Bacchanal with a Wine Vat337057.jpg', 'f00075_f00075_Bacchanal335240.jpg', 'f00076_f00076_Bacchus and Ariadne459236.jpg', 'f00077_f00077_Bahram Gur Sees a Herd of Deer Mesmerized by Dilaram  s Music , Folio from a Khamsa  Quintet  of Amir Khusrau Dihlavi446562.jpg', 'f00078_f00078_Bala501109.jpg', 'f00079_f00079_Base for a Water Pipe  Huqqa  with Irises453243.jpg', 'f00080_f00080_Bashi Bazouk440723.jpg', 'f00081_f00081_Bass Viola da Gamba503396.jpg', 'f00082_f00082_Bassoon503528.jpg', 'f00083_f00083_Bassoon503615.jpg', 'f00084_f00084_Beaker with Apes470308.jpg', 'f00085_f00085_Bellini  carpet447572.jpg', 'f00086_f00086_Bes image of the god Hor Asha Khet547904.jpg', 'f00087_f00087_Bifolium from the  Nurse s Qur an   Mushaf al Hadina 456074.jpg', 'f00088_f00088_Biographies of Lian Po and Lin Xiangru39918.jpg', 'f00089_f00089_Black Stork in a Landscape454011.jpg', 'f00090_f00090_Blade for a Dagger (Tanto)24948.jpg', 'f00091_f00091_Blades and Mountings for a Pair of Swords (Daisho)27789.jpg', 'f00092_f00092_Blind Orion Searching for the Rising Sun437326.jpg', 'f00093_f00093_Block Statue of a Prophet of Montu and Scribe Djedkhonsuefankh, son of Khonsumes and Taat547694.jpg', 'f00094_f00094_Block from a Relief Depicting a Battle544720.jpg', 'f00095_f00095_Blue Painted Ibex Amphora from Malqata544501.jpg', 'f00096_f00096_Bo gu tu705290.jpg', 'f00097_f00097_Boating436947.jpg', 'f00098_f00098_Book of the Dead for the Singer of Amun, Nany548344.jpg', 'f00099_f00099_Booklet with Scenes of the Passion466105.jpg', 'f00100_f00100_Bouquet of Chrysantemums438012.jpg', 'f00101_f00101_Bow Brooch468181.jpg', 'f00102_f00102_Bowl Emulating Chinese Stoneware451715.jpg', 'f00103_f00103_Bowl with Arabic Inscription451802.jpg', 'f00104_f00104_Bowl with Dragons among Waves39649.jpg', 'f00105_f00105_Bowl with Eagle451717.jpg', 'f00106_f00106_Bowl with Green, Yellow, and Brown Splashed Decoration449348.jpg', 'f00107_f00107_Bowl with Inscription,  Sovereignty is God s 449330.jpg', 'f00108_f00108_Bowl with a Horseman Spearing a Serpent467746.jpg', 'f00109_f00109_Bowl with the Arms of Pope Julius II and the Manzoli of Bologna surrounded by putti, cornucopiae, satyrs, dolphins, birds, etc.459197.jpg', 'f00110_f00110_Boys in a Dory17053.jpg', 'f00111_f00111_Bracelet with Agathodaimon, Isis Tyche, Aphrodite, and Terenouthis547376.jpg', 'f00112_f00112_Brasero451995.jpg', 'f00113_f00113_Brazier of Sultan al Malik al Muzaffar Shams al Din Yusuf ibn  Umar444540.jpg', 'f00114_f00114_Broken Eggs436579.jpg', 'f00115_f00115_Buddha Expounding the Dharma74832.jpg', 'f00116_f00116_Buddha Maitreya (Mile)42162.jpg', 'f00117_f00117_Buddha of Medicine Bhaishajyaguru (Yaoshi fo)42716.jpg', 'f00118_f00118_Buddha, Probably Amitabha (Amituofo)42163.jpg', 'f00119_f00119_Burgomaster Jan van Duren  1613 1687 459083.jpg', 'f00120_f00120_Burgonet with Falling Buffe27791.jpg', 'f00121_f00121_Burgonet22634.jpg', 'f00122_f00122_Bust of Pseudo Seneca459195.jpg', 'f00123_f00123_Bust of a Man in a Hat Gazing Upward459232.jpg', 'f00124_f00124_Bust of the Virgin476711.jpg', 'f00125_f00125_Calendrier belgique, curieux et utile, contenant les eveneme681349.jpg', 'f00126_f00126_California11790.jpg', 'f00127_f00127_Calligraphic Galleon454611.jpg', 'f00128_f00128_Calligraphic Plaque453279.jpg', 'f00129_f00129_Canopic Jar  07 226 1  with a Lid in the Shape of a Royal Woman s Head  30 8 54 544689.jpg', 'f00130_f00130_Cape79091.jpg', 'f00131_f00131_Captain George K. H. Coussmaker  1759 1801 437447.jpg', 'f00132_f00132_Card table15387.jpg', 'f00133_f00133_Cardinal Fernando Ni o de Guevara  1541 1609 436573.jpg', 'f00134_f00134_Carpet with Palm Trees, Ibexes, and Birds446999.jpg', 'f00135_f00135_Carpet with Scrolling Vines and Blossoms446646.jpg', 'f00136_f00136_Carpet with Triple Arch Design447509.jpg', 'f00137_f00137_Cased Set of a Flintlock Rifle, a Pair of Pistols, and Accessories24861.jpg', 'f00138_f00138_Casket with Scenes from Romances464125.jpg', 'f00139_f00139_Cat Statuette intended to contain a mummified cat544118.jpg', 'f00140_f00140_Ceiling painting from the palace of Amenhotep III544502.jpg', 'f00141_f00141_Ceiling451373.jpg', 'f00142_f00142_Ceramic Horn501691.jpg', 'f00143_f00143_Ceremonial Object in the Shape of an Ax37743.jpg', 'f00144_f00144_Chair of Reniseneb547687.jpg', 'f00145_f00145_Chair14430.jpg', 'f00146_f00146_Chalice474435.jpg', 'f00147_f00147_Chapter House from Notre Dame de Pontaut471179.jpg', 'f00148_f00148_Chasse of Champagnat464559.jpg', 'f00149_f00149_Chasse with the Crucifixion and Christ in Majesty464483.jpg', 'f00150_f00150_Chegah Skah Hdah  dance wand 501213.jpg', 'f00151_f00151_Child Saint Sambandar75960.jpg', 'f00152_f00152_Christ Carrying the Cross, with the Crucifixion  The Resurrection, with the Pilgrims of Emmaus459061.jpg', 'f00153_f00153_Christ Carrying the Cross336162.jpg', 'f00154_f00154_Christ Carrying the Cross459087.jpg', 'f00155_f00155_Christ Crucified between the Two Thieves  The Three Crosses354631.jpg', 'f00156_f00156_Cider Making11619.jpg', 'f00157_f00157_Circus Sideshow  Parade de cirque 437654.jpg', 'f00158_f00158_Cittern504210.jpg', 'f00159_f00159_Clarinet in B flat503669.jpg', 'f00160_f00160_Clarinet in D506724.jpg', 'f00161_f00161_Clavichord503271.jpg', 'f00162_f00162_Claviorganum501762.jpg', 'f00163_f00163_Cleopatra12649.jpg', 'f00164_f00164_Clothing the Naked437769.jpg', 'f00165_f00165_Coat81107.jpg', 'f00166_f00166_Codice civile generale austriaco681372.jpg', 'f00167_f00167_Coffin of Khnumnakht544326.jpg', 'f00168_f00168_Colt Third Model Dragoon Percussion Revolver, Serial Number 1240624960.jpg', 'f00169_f00169_Column Statue of a King466311.jpg', 'f00170_f00170_Compositional Sketches for the Virgin Adoring the Christ Child, with and without the Infant St. John the Baptist  Diagram of a Perspectival Projection  recto   Slight Doodles  verso 337494.jpg', 'f00171_f00171_Condesa de Altamira and Her Daughter, Mar a Agustina459090.jpg', 'f00172_f00172_Confronted Animal Rug453317.jpg', 'f00173_f00173_Congressional Presentation Sword and Scabbard of Major General John E. Wool (1784 1869)35650.jpg', 'f00174_f00174_Congressional Presentation Sword with Scabbard of Colonel Marinus Willett (1740 1830)22631.jpg', 'f00175_f00175_Contes et nouvelles de Bocace florentin   traduction libre, 681534.jpg', 'f00176_f00176_Contes et nouvelles en vers par Jean de la Fontaine681545.jpg', 'f00177_f00177_Contest for the bouquet14472.jpg', 'f00178_f00178_Cornet   Pistons in B flat503546.jpg', 'f00179_f00179_Cornetto in A503951.jpg', 'f00180_f00180_Coronation of the Virgin458978.jpg', 'f00181_f00181_Corridor in the Asylum336327.jpg', 'f00182_f00182_Corset82433.jpg', 'f00183_f00183_Cosmetic Box with a Swivel Top547031.jpg', 'f00184_f00184_Cosmetic Spoon in the Shape of Swimming Woman Holding a Dish548584.jpg', 'f00185_f00185_Cosmetic Vessel in the Shape of a Cat544039.jpg', 'f00186_f00186_Cosmological Mandala with Mount Meru39738.jpg', 'f00187_f00187_Costume Armor in the Classical Style24931.jpg', 'f00188_f00188_Cottage among Trees337491.jpg', 'f00189_f00189_Cottage near the Entrance to a Wood459238.jpg', 'f00190_f00190_Court dress82426.jpg', 'f00191_f00191_Courtiers in a Rose Garden  A Lady and Two Gentlemen463188.jpg', 'f00192_f00192_Covered jar662161.jpg', 'f00193_f00193_Covered jar662163.jpg', 'f00194_f00194_Crescent Shaped Pendant with Confronted Birds448401.jpg', 'f00195_f00195_Crib of the Infant Jesus465966.jpg', 'f00196_f00196_Crossbow Brooch466286.jpg', 'f00197_f00197_Crossbow of Count Ulrich V of Wurttemberg (1413 1480)21940.jpg', 'f00198_f00198_Crown of the Virgin of the Immaculate Conception, known as the Crown of the Andes21698.jpg', 'f00199_f00199_Crucified Christ466045.jpg', 'f00200_f00200_Crucifix473008.jpg', 'f00201_f00201_Cult Image of the God Ptah549169.jpg', 'f00202_f00202_Cupboard20612.jpg', 'f00203_f00203_Cuxa Cloister470314.jpg', 'f00204_f00204_DT780.jpg', 'f00205_f00205_Dagger with Hilt in the Form of a Blue Bull  Nilgai 453253.jpg', 'f00206_f00206_Dagger with Scabbard24907.jpg', 'f00207_f00207_Dagger with Zoomorphic Hilt457730.jpg', 'f00208_f00208_Damaru500782.jpg', 'f00209_f00209_Damascus Room452102.jpg', 'f00210_f00210_Dancing Dervishes , Folio from a Divan of Hafiz446892.jpg', 'f00211_f00211_Daniel Crommelin Verplanck10522.jpg', 'f00212_f00212_Das Interieur  1900 749358.jpg', 'f00213_f00213_Das Interieur  1901 749368.jpg', 'f00214_f00214_De  ragguagli di Parnaso  Centuria prima seconda681546.jpg', 'f00215_f00215_Decanter14972.jpg', 'f00216_f00216_Dedicatory Inscription from a Mosque453053.jpg', 'f00217_f00217_Der aller durchleuchtigisten und grosm chtigen Kayser  K 697348.jpg', 'f00218_f00218_Description de la chapelle du chasteau de Versailles, et des755786.jpg', 'f00219_f00219_Design for a Wall Monument459185.jpg', \"f00220_f00220_Devananda's Fourteen Auspicious Dreams Foretelling the Birth of Mahavira37788.jpg\", 'f00221_f00221_Dialogo sobre hua nova obra no Rio Tejo 682011.jpg', 'f00222_f00222_Dialogos de la pintvra   sv defensa, origen, essecia, defini699505.jpg', 'f00223_f00223_Diana and Actaeon  Diana Surprised in Her Bath 459093.jpg', 'f00224_f00224_Diana and Actaeon337490.jpg', 'f00225_f00225_Diana11999.jpg', 'f00226_f00226_Dinner dress82880.jpg', 'f00227_f00227_Diptych with Scenes of the Annunciation, Nativity, Crucifixion, and Resurrection469858.jpg', 'f00228_f00228_Diptych with the Coronation of the Virgin and the Last Judgment471975.jpg', 'f00229_f00229_Dish  The Destruction of the Hosts of Pharaoh459246.jpg', 'f00230_f00230_Dish  piatto   Man Washing the Mouth of an Ass459244.jpg', 'f00231_f00231_Dish Depicting Two Birds among Flowering Plants451490.jpg', 'f00232_f00232_Dish in the Shape of a Leaf42183.jpg', 'f00233_f00233_Dish with Abraham and Melchizedek478211.jpg', 'f00234_f00234_Dish with Three Jars50342.jpg', 'f00235_f00235_Dish with Two Intertwined Dragons451804.jpg', 'f00236_f00236_Dizi503050.jpg', 'f00237_f00237_Doct. Johan Arndts, dess gottseligen und hocherleuchteten Lehrers Paradijss G rtlein  591838.jpg', 'f00238_f00238_Doorway from Moutiers Saint Jean470313.jpg', 'f00239_f00239_Doorway from the Church of San Nicol , San Gemini468207.jpg', 'f00240_f00240_Double Virginal501767.jpg', 'f00241_f00241_Double Whistle503940.jpg', 'f00242_f00242_Double-Barrel Breech-Loading Pinfire Shotgun24957.jpg', 'f00243_f00243_Double-Barreled Wheellock Pistol Made for Emperor Charles V (reigned 1519 56)22387.jpg', 'f00244_f00244_Doublet81558.jpg', 'f00245_f00245_Dragon Handled Jug with Inscription444607.jpg', 'f00246_f00246_Dragon Wrapped around Saz Leaves454015.jpg', 'f00247_f00247_Dress107620.jpg', 'f00248_f00248_Dress79220.jpg', 'f00249_f00249_Dress81130.jpg', 'f00250_f00250_Dress95534.jpg', 'f00251_f00251_Dress96434.jpg', 'f00252_f00252_Dune Landscape with Oak Tree337493.jpg', 'f00253_f00253_Dung Chen503348.jpg', 'f00254_f00254_Durga as Slayer of the Buffalo Demon Mahishasura38341.jpg', 'f00255_f00255_Eagle17139.jpg', 'f00256_f00256_Ecstatic Christ459138.jpg', 'f00257_f00257_Elijah Boardman10830.jpg', 'f00258_f00258_Elizabeth Farren  born about 1759, died 1829 , Later Countess of Derby436851.jpg', 'f00259_f00259_Embroidered Sampler14049.jpg', 'f00260_f00260_Embroidered sampler14092.jpg', 'f00261_f00261_Emperor Vespasian Cured by Veronica s Veil459227.jpg', \"f00262_f00262_Emperor Xuanzong's Flight to Shu40055.jpg\", 'f00263_f00263_Enameled and Gilded Bottle450409.jpg', 'f00264_f00264_Encyclop die, ou Dictionnaire raisonn  des sciences, des art716639.jpg', 'f00265_f00265_Encyclop die, ou Dictionnaire raisonn  des sciences, des arts et des m tiers591843.jpg', 'f00266_f00266_English Horn504284.jpg', 'f00267_f00267_Ennanga501536.jpg', 'f00268_f00268_Ensemble107375.jpg', 'f00269_f00269_Ensemble81168.jpg', 'f00270_f00270_Ensemble88206.jpg', 'f00271_f00271_Enthroned Buddha Attended by the Bodhisattvas Avalokiteshvara and Vajrapani72498.jpg', 'f00272_f00272_Enthroned Virgin and Child469844.jpg', 'f00273_f00273_Enthroned Virgin and Child470311.jpg', 'f00274_f00274_Enthroned Vishnu38133.jpg', 'f00275_f00275_Epistole eroiche di P. Ovidio Nasone682012.jpg', 'f00276_f00276_Erasmus of Rotterdam459080.jpg', 'f00277_f00277_Estate Figure544210.jpg', 'f00278_f00278_Euphemia White Van Rensselaer11055.jpg', 'f00279_f00279_Evening dress81135.jpg', 'f00280_f00280_Ewer with Wild Man Finial470312.jpg', 'f00281_f00281_Ewer with a Feline Shaped Handle450748.jpg', 'f00282_f00282_Ewer450513.jpg', 'f00283_f00283_Examples of Chinese ornament selected from objects in the So739504.jpg', 'f00284_f00284_Face attributed to Ptolemy II Philadelphos or a contemporary548230.jpg', 'f00285_f00285_Face from a Composite Statue, probably Queen Tiye544693.jpg', 'f00286_f00286_Face of Senwosret III544184.jpg', 'f00287_f00287_Farhad Carves a Milk Channel for Shirin , Folio 74 from a Khamsa  Quintet  of Nizami446595.jpg', 'f00288_f00288_Female Dancer42178.jpg', 'f00289_f00289_Figure of Isis Aphrodite544919.jpg', 'f00290_f00290_Figure of a Cynocephalus Ape545213.jpg', 'f00291_f00291_Figure of an Asiatic captive545919.jpg', 'f00292_f00292_Figures fran oises et comiques nouvellement invent es par M.682014.jpg', 'f00293_f00293_Finches and bamboo39936.jpg', 'f00294_f00294_Finial in the Form of a Parrot447086.jpg', 'f00295_f00295_Fishing Boats, Key West11120.jpg', 'f00296_f00296_Flintlock Gun of Louis XIII (1601 1643), King of France24865.jpg', 'f00297_f00297_Flintlock Longrifle24681.jpg', 'f00298_f00298_Floral Tent Panel453054.jpg', 'f00299_f00299_Floral collar from Tutankhamun s Embalming Cache544782.jpg', 'f00300_f00300_Flower Style Box with Drawers452813.jpg', 'f00301_f00301_Folio from a Mu nis al ahrar fi daqa iq al ash ar  The Free Man s Companion to the Subtleties of Poems  of Jajarmi447071.jpg', 'f00302_f00302_Folio from a Qur an Manuscript448281.jpg', 'f00303_f00303_Folio from a Qur an Manuscript448282.jpg', 'f00304_f00304_Folio from a Qur an Manuscript448369.jpg', 'f00305_f00305_Folio from a Qur an Manuscript450486.jpg', 'f00306_f00306_Folio from a Qur an Manuscript451203.jpg', 'f00307_f00307_Folio from a Qur an Manuscript453369.jpg', 'f00308_f00308_Folio from the  Blue Qur an 454662.jpg', 'f00309_f00309_Folio from the  Tashkent Qur an 454661.jpg', 'f00310_f00310_Footed Bowl and Plate454013.jpg', 'f00311_f00311_Foreigners in a Procession544060.jpg', 'f00312_f00312_Fragment of a Floor Mosaic with a Personification of Ktisis469960.jpg', 'f00313_f00313_Fragment of a Kaftan Back451095.jpg', 'f00314_f00314_Fragment of a Queen s Face544514.jpg', 'f00315_f00315_Fragment of a Tapestry or Wall Hanging466178.jpg', 'f00316_f00316_Fragment451102.jpg', 'f00317_f00317_Fragmentary Face of King Khafre543896.jpg', 'f00318_f00318_Fragmentary Loom Width with Wavy vine Pattern451101.jpg', 'f00319_f00319_Francesco d Este  born about 1429, died after July 20, 1486 437487.jpg', 'f00320_f00320_Francis Brinley12600.jpg', 'f00321_f00321_Frank Johnson, Leader of the Brass Band of the 128th Regiment in Saratoga, with his wife, Helen337070.jpg', 'f00322_f00322_Fuji Seen from Kanaya on the Tokaido (Tokaido Kanaya no Fuji), from the series Thirty six Views of Mount Fuji (Fugaku sanjurokkei56365.jpg', 'f00323_f00323_Funerary Figure of Akhenaten544686.jpg', 'f00324_f00324_Fur Traders Descending the Missouri10159.jpg', 'f00325_f00325_Galerie Giustiniani, ou, Catalogue figur  des tableaux de ce682015.jpg', 'f00326_f00326_Game Piece with a Scene from the Life of Apollonius of Tyre466289.jpg', 'f00327_f00327_Game of Hounds and Jackals543867.jpg', 'f00328_f00328_Garden Gathering455082.jpg', 'f00329_f00329_Gazelle544068.jpg', 'f00330_f00330_Genius of Mirth10574.jpg', 'f00331_f00331_George Washington11707.jpg', 'f00332_f00332_George Washington11792.jpg', 'f00333_f00333_George Washington16584.jpg', 'f00334_f00334_Ghanti  bell 500736.jpg', 'f00335_f00335_Gibbons in a Landscape44696.jpg', 'f00336_f00336_Glass  Claw  Beaker468762.jpg', 'f00337_f00337_Gloves81100.jpg', 'f00338_f00338_Goa Stone and Gold Case454738.jpg', 'f00339_f00339_Goblet with Incised Designs451807.jpg', 'f00340_f00340_Goblet459200.jpg', 'f00341_f00341_God Horus Protecting King Nectanebo II544887.jpg', 'f00342_f00342_Gold Neck Ring476552.jpg', 'f00343_f00343_Goqing500637.jpg', 'f00344_f00344_Grammaire des arts du dessin   architecture, sculpture, pein726669.jpg', 'f00345_f00345_Grammaire des arts du dessin   architecture, sculpture, pein726673.jpg', 'f00346_f00346_Grand Piano501788.jpg', 'f00347_f00347_Grand Piano503677.jpg', 'f00348_f00348_Great Indian Fruit Bat456949.jpg', 'f00349_f00349_Guardian Figure543864.jpg', 'f00350_f00350_Guitar503155.jpg', 'f00351_f00351_Guitar503283.jpg', 'f00352_f00352_Guitar503385.jpg', 'f00353_f00353_Guitar503440.jpg', 'f00354_f00354_Guitar503930.jpg', 'f00355_f00355_Guitar503932.jpg', 'f00356_f00356_Guitar503933.jpg', 'f00357_f00357_Guqin      503523.jpg', 'f00358_f00358_Hagar in the Wilderness435962.jpg', 'f00359_f00359_Hair Comb Decorated with Rows of Wild Animals544067.jpg', 'f00360_f00360_Handle Depicting a Lion Subduing a Nubian544066.jpg', 'f00361_f00361_Hardanger Fiddle505825.jpg', 'f00362_f00362_Haremhab as a Scribe of the King544692.jpg', 'f00363_f00363_Harihara38162.jpg', 'f00364_f00364_Harpsichord502377.jpg', 'f00365_f00365_Harpsichord503625.jpg', 'f00366_f00366_Haystacks  Autumn437097.jpg', 'f00367_f00367_Head Attributed to Arsinoe II547699.jpg', 'f00368_f00368_Head from a Statue of King Amenhotep I544453.jpg', 'f00369_f00369_Head of King David467647.jpg', 'f00370_f00370_Head of King Seti II Wearing the Blue Crown544752.jpg', 'f00371_f00371_Head of Ptolemy II or III547773.jpg', 'f00372_f00372_Head of Tutankhamun544690.jpg', 'f00373_f00373_Head of a Hippopotamus547775.jpg', 'f00374_f00374_Head of a Man334650.jpg', 'f00375_f00375_Head of a Young Woman459211.jpg', 'f00376_f00376_Head of a goddess, probably Mut, for attachment to a processional barque    587591.jpg', 'f00377_f00377_Head of a goddess547704.jpg', 'f00378_f00378_Head of a princess from a group statue547692.jpg', 'f00379_f00379_Head of the god Amun544691.jpg', 'f00380_f00380_Heart Scarab of Hatnefer545146.jpg', 'f00381_f00381_Heart of the Andes10481.jpg', 'f00382_f00382_Helm for the Joust of Peace (Stechhelm)23216.jpg', 'f00383_f00383_Helmet (Sallet)24900.jpg', 'f00384_f00384_Helmet (Spangenhelm)24685.jpg', 'f00385_f00385_Helmet (Zukinnari Kabuto)24014.jpg', 'f00386_f00386_Helmet with Aventail24813.jpg', 'f00387_f00387_Helmet23026.jpg', 'f00388_f00388_Helmet27936.jpg', 'f00389_f00389_Hercules chasing Avarice from the Temple of the Muses337700.jpg', 'f00390_f00390_Hermann von Wedigh III  died 1560 436658.jpg', 'f00391_f00391_Hiawatha12004.jpg', 'f00392_f00392_Hippopotamus   William  544227.jpg', 'f00393_f00393_Histoire secrette de Neron, ov, Le festin de Trimalcion, traduit de Petrone, avec des notes historiques par M. Lavaur 679476.jpg', 'f00394_f00394_Holy Face459253.jpg', 'f00395_f00395_Honor  Daumier, l homme et l  uvre   ouvrage orn  d un portr726678.jpg', 'f00396_f00396_Horatio Gates12667.jpg', 'f00397_f00397_Hugh Hall15541.jpg', 'f00398_f00398_Hunting Sword with Scabbard22914.jpg', 'f00399_f00399_Ia Orana Maria  Hail Mary 438821.jpg', 'f00400_f00400_Icon with the Crucifixion464428.jpg', 'f00401_f00401_Illustrated Legends of the Kitano Tenjin Shrine (Kitano Tenjin engi emaki)45428.jpg', 'f00402_f00402_Imaginary View of Venice, houses at left with figures on terraces, a domed church at center in the background, boats and boat-sheds below.jpg', 'f00403_f00403_Incense Burner of Amir Saif al Dunya wa l Din ibn Muhammad al Mawardi451042.jpg', 'f00404_f00404_Incidents of Travel in Central America, Chiapas, and Yucatan591852.jpg', 'f00405_f00405_Incidents of Travel in Yucatan591853.jpg', 'f00406_f00406_Inlay Depicting  Horus of Gold 547556.jpg', 'f00407_f00407_Irises436528.jpg', 'f00408_f00408_Isfandiyar s Third Course  He Slays a Dragon , Folio 434v from the Shahnama  Book of Kings  of Shah Tahmasp452160.jpg', 'f00409_f00409_Jacket80591.jpg', 'f00410_f00410_Jacket81132.jpg', 'f00411_f00411_Jagdhorn in G503703.jpg', 'f00412_f00412_Jaharis Byzantine Lectionary477499.jpg', 'f00413_f00413_Jain Svetambara Tirthankara in Meditation38574.jpg', 'f00414_f00414_Jalais Hill, Pontoise437299.jpg', 'f00415_f00415_Jar from the tomb of Sennedjem544702.jpg', 'f00416_f00416_Jar with Dragon39666.jpg', 'f00417_f00417_Jewelry Elements453312.jpg', 'f00418_f00418_Joan of Arc435621.jpg', 'f00419_f00419_Jonah and the Whale , Folio from a Jami al Tavarikh  Compendium of Chronicles 453683.jpg', 'f00420_f00420_Jos phine  l onore Marie Pauline de Galard de Brassac de B arn  1825 1860 , Princesse de Broglie459106.jpg', 'f00421_f00421_Joseph Antoine Moltedo  born 1775 438818.jpg', 'f00422_f00422_Juan de Pareja  1606 1670 437869.jpg', 'f00423_f00423_Jug Decorated with Dolphins and Birds544822.jpg', 'f00424_f00424_Julius Caesar and Attendants  from the Nine Heroes Tapestries 468233.jpg', 'f00425_f00425_Jupiter and Juno  Study for the  Furti di Giove  Tapestries395485.jpg', 'f00426_f00426_Kam nche503503.jpg', 'f00427_f00427_Kettle Drums506174.jpg', 'f00428_f00428_Khusrau and Shirin452037.jpg', 'f00429_f00429_King Sahure and a Nome God543882.jpg', 'f00430_f00430_Kitab suwar al kawakib al thabita  Book of the Images of the Fixed Stars  of al Sufi446297.jpg', 'f00431_f00431_Knotted Dragon Pendant39637.jpg', 'f00432_f00432_Koto505626.jpg', 'f00433_f00433_Krishna Holds Up Mount Govardhan to Shelter the Villagers of Braj , Folio from a Harivamsa  The Legend of Hari  Krishna  448183.jpg', 'f00434_f00434_Kushite Pharaoh545027.jpg', 'f00435_f00435_Kushite priest wearing garment with leopard s head and tassels, subsequently adapted for a king587760.jpg', 'f00436_f00436_L Amour dans le globe  ou, L Almanach volant, compos  de pet682098.jpg', 'f00437_f00437_L Amour dans le globe  ou, L Almanach volant, compos  de petites pi ces fugitives, 680821.jpg', 'f00438_f00438_L ami des voyageurs, ou, Etrennes instructives, curieuses et n cessaires   toutes les personnes qui voyagent, soit   pied,  678732.jpg', 'f00439_f00439_L art de former les jardins modernes, ou, L art des jardins anglois680835.jpg', 'f00440_f00440_L office de l  glise en fran ois contenant les offices pour toute l ann e, plusieurs pri res tir es de l  criture sainte   des saints p res, les hymnes en vers fran ois681246.jpg', 'f00441_f00441_La Basilica di San Marco in Venezia illustrata nella storia 739518.jpg', 'f00442_f00442_La dedvction de l innocence de messire Philippe Baron de Mon682010.jpg', 'f00443_f00443_Lady Lilith337500.jpg', 'f00444_f00444_Lake George11311.jpg', 'f00445_f00445_Landscape with Stars459189.jpg', 'f00446_f00446_Landscape with a Double Spruce336259.jpg', 'f00447_f00447_Landscapes with Poems36131.jpg', 'f00448_f00448_Lantern for a Lamp449619.jpg', 'f00449_f00449_Le calendrier de la cour   tir  des eph m rides, pour l ann 681357.jpg', 'f00450_f00450_Leaf from a Beatus Manuscript  Christ in Majesty with Angels and  the Angel of God Directs Saint John to Write the Book of Revelation466198.jpg', 'f00451_f00451_Leaf from a Beatus Manuscript  at the Clarion of the Fifth Angel s Trumpet, a Star Falls from the Sky  the Bottomless Pit is Opened with a Key  Emerging from the Smoke,466191.jpg', 'f00452_f00452_Lectern for the Reading of the Gospels with the Eagle of Saint John the Evangelist465937.jpg', 'f00453_f00453_Leisure Time in an Elegant Setting459086.jpg', 'f00454_f00454_Leonidas at Thermopylae334245.jpg', 'f00455_f00455_Les aventures de T l maque, fils d Ulysse par M. de F n lon   avec figures en taille douce, dessin es par MM  Cochin et Moreau le jeune681128.jpg', 'f00456_f00456_Les jeux du cirque et la vie foraine726717.jpg', 'f00457_f00457_Les oeuvres morales de Mr. Diderot   contenant son trait  De681573.jpg', 'f00458_f00458_Lettres cabalistiques, ou, Correspondance philosophique, his681502.jpg', 'f00459_f00459_Libation Dish Depicting Ka Arms Presenting an Ankh Sign543866.jpg', 'f00460_f00460_Library Table14282.jpg', 'f00461_f00461_Life of Nichiren, A Vision of Prayer on the Waves45287.jpg', 'f00462_f00462_Linen Press14336.jpg', 'f00463_f00463_Lion Cub544077.jpg', 'f00464_f00464_Lion471061.jpg', 'f00465_f00465_Loffice de No l, 1768681259.jpg', 'f00466_f00466_Lotiform Chalice548339.jpg', 'f00467_f00467_Lotto  Carpet445297.jpg', 'f00468_f00468_Lotto  Carpet452845.jpg', 'f00469_f00469_Lucas van Uffel  died 1637 436253.jpg', 'f00470_f00470_Lucretia337075.jpg', 'f00471_f00471_Luster Bowl with Winged Horse446860.jpg', 'f00472_f00472_Lute Player439933.jpg', 'f00473_f00473_Lyre Guitar503505.jpg', 'f00474_f00474_M da Primavesi  1903 2000 436819.jpg', 'f00475_f00475_M moire sur un rouet a filer des deux mains a la fois681551.jpg', 'f00476_f00476_M moires du Comte de Grammont   histoire amoureuse de la cou681556.jpg', 'f00477_f00477_Madame C zanne  Hortense Fiquet, 1850 1922  in a Red Dress435876.jpg', 'f00478_f00478_Madame F lix Gallois459213.jpg', 'f00479_f00479_Madame Roulin and Her Baby459123.jpg', 'f00480_f00480_Madonna and Child Enthroned with Saints437372.jpg', 'f00481_f00481_Madonna and Child435641.jpg', 'f00482_f00482_Madonna and Child436892.jpg', 'f00483_f00483_Madonna and Child438754.jpg', 'f00484_f00484_Madonna and Child458994.jpg', 'f00485_f00485_Madonna and Child459136.jpg', 'f00486_f00486_Magical Stela  Cippus of Horus 546037.jpg', 'f00487_f00487_Maharana Sarup Singh Inspects a Prize Stallion61429.jpg', 'f00488_f00488_Male god547777.jpg', 'f00489_f00489_Mamluk Carpet447510.jpg', 'f00490_f00490_Mandora503048.jpg', 'f00491_f00491_Manuel Osorio Manrique de Zu iga  1784 1792 436545.jpg', 'f00492_f00492_Manuscript Leaf with the Crucifixion, from a Missal466070.jpg', 'f00493_f00493_Marble Portrait Bust of a Woman with a Scroll468716.jpg', 'f00494_f00494_Margaret of Austria459072.jpg', 'f00495_f00495_Margaretha van Haexbergen  1614 1676 459084.jpg', 'f00496_f00496_Marine Coast11126.jpg', 'f00497_f00497_Mars and Venus United by Love437891.jpg', 'f00498_f00498_Martyrdom of Saint Lawrence469887.jpg', 'f00499_f00499_Mary Sylvester10174.jpg', 'f00500_f00500_Mask22739.jpg', 'f00501_f00501_Mastaba Tomb of Perneb543937.jpg', 'f00502_f00502_Maternity17066.jpg', 'f00503_f00503_Mechanical Dog544519.jpg', 'f00504_f00504_Medallion with a Portrait of Gennadios466645.jpg', 'f00505_f00505_Melencolia I336228.jpg', 'f00506_f00506_Memoires de Montecuculi, generalissime des troupes de l empe681554.jpg', 'f00507_f00507_Memoires et r flexions sur les principaux  venemens du regne681559.jpg', 'f00508_f00508_Men Shoveling Chairs  Scupstoel 459209.jpg', 'f00509_f00509_Men Treading Grapes , Folio from a Materia Medica of Dioscorides451332.jpg', 'f00510_f00510_Menat necklace from Malqata544509.jpg', 'f00511_f00511_Merry Company on a Terrace437749.jpg', 'f00512_f00512_Merrymakers at Shrovetide436622.jpg', 'f00513_f00513_Mezzetin437926.jpg', 'f00514_f00514_Michael Angelo and Emma Clara Peale16687.jpg', 'f00515_f00515_Midshipman Augustus Brine10527.jpg', 'f00516_f00516_Mihrab  Prayer Niche 449537.jpg', 'f00517_f00517_Miniature broad collar547900.jpg', 'f00518_f00518_Mirror Case467733.jpg', 'f00519_f00519_Model of a Granary with Scribes545281.jpg', 'f00520_f00520_Molly Wales Fobes11040.jpg', 'f00521_f00521_Moon jar45432.jpg', 'f00522_f00522_Moonlight on Mount Lafayette, New Hampshire11900.jpg', 'f00523_f00523_Morgan Casket446990.jpg', 'f00524_f00524_Mosque Lamp for the Mausoleum of Amir Aydakin al  Ala i al Bunduqdar447000.jpg', 'f00525_f00525_Mr. Vanderbilt s house and collection704714.jpg', 'f00526_f00526_Mr. and Mrs. Daniel Otis and Child10732.jpg', 'f00527_f00527_Mrs. Francis Brinley and Her Son Francis12602.jpg', 'f00528_f00528_Mrs. Grace Dalrymple Elliott  1754  1823 436435.jpg', 'f00529_f00529_Mrs. John Winthrop10531.jpg', 'f00530_f00530_Mrs. Schuyler Van Rensselaer (Mariana Griswold)12012.jpg', 'f00531_f00531_Mummy Mask547257.jpg', 'f00532_f00532_Musette de Cour503578.jpg', 'f00533_f00533_Musical Clock with Spinet and Organ503530.jpg', 'f00534_f00534_Naophorous Block Statue of a Governor of Sais, Psamtikseneb550755.jpg', 'f00535_f00535_Natural Trumpet in D501675.jpg', 'f00536_f00536_Natural Trumpet503971.jpg', 'f00537_f00537_Night Rain at the Double Shelf Stand, from the series Eight Parlor Views (Zashiki hakkei)37145.jpg', 'f00538_f00538_Night Shining White39901.jpg', 'f00539_f00539_Nikare with his Wife and Daughter543901.jpg', 'f00540_f00540_Nocturne  Nocturne  The Thames at Battersea 337702.jpg', 'f00541_f00541_Northeaster11130.jpg', 'f00542_f00542_Note in Pink and Brown13215.jpg', 'f00543_f00543_O daiko501802.jpg', 'f00544_f00544_Oboe in C503673.jpg', 'f00545_f00545_Oedipus and the Sphinx437153.jpg', 'f00546_f00546_Oeuvres de Moliere   avec des remarques grammaticales, des a681563.jpg', 'f00547_f00547_Old Plum44858.jpg', 'f00548_f00548_Old Trees, Level Distance39668.jpg', 'f00549_f00549_Opus Anglicanum  Chasuble 466096.jpg', 'f00550_f00550_Orlando furioso di M Lodouico Ariosto nuouamente adornato di figure di rame da Girolamo Porro Padouano   et di altre cose che saranno notate nella sequente facciata679465.jpg', 'f00551_f00551_Otto, Count of Nassau and his Wife Adelheid van Vianen337487.jpg', 'f00552_f00552_Outer Coffin of the Singer of Amun Re, Henettawy548264.jpg', 'f00553_f00553_Pair of Clappers544680.jpg', 'f00554_f00554_Pair of Flintlock Pistols of Empress Catherine the Great (1729 1796)24927.jpg', 'f00555_f00555_Pair of Minbar Doors444812.jpg', 'f00556_f00556_Pair of Transverse Flutes503467.jpg', 'f00557_f00557_Palette inscribed for Smendes, High Priest of Amun545113.jpg', 'f00558_f00558_Panaromic View of the Bacino di San Marco, Looking up the Giudecca Canal459235.jpg', 'f00559_f00559_Panel  Lid from a Chest  449211.jpg', 'f00560_f00560_Panel from a Rectangular Box446285.jpg', 'f00561_f00561_Panel with Horse Heads446191.jpg', 'f00562_f00562_Panoramic View of the Palace and Gardens of Versailles13052.jpg', 'f00563_f00563_Paten475515.jpg', 'f00564_f00564_Pectoral and Necklace of Sithathoryunet with the Name of Senwosret II544232.jpg', 'f00565_f00565_Pectoral with Coins and Pseudo Medallion464070.jpg', 'f00566_f00566_Pen Box  Qalamdan  Depicting Shah Isma il in a Battle against the Uzbeks455304.jpg', 'f00567_f00567_Pensive bodhisattva65397.jpg', 'f00568_f00568_Perseus and the Origin of Coral459190.jpg', 'f00569_f00569_Petri Gyllii De Bosporo thracio libri III   Petri Gyllii De 700032.jpg', 'f00570_f00570_Phebe Warner Coverlet13606.jpg', 'f00571_f00571_Piazza San Marco435839.jpg', 'f00572_f00572_Pichhwai for the Festival of Cows65576.jpg', 'f00573_f00573_Pierced Jug with Harpies and Sphinxes448671.jpg', 'f00574_f00574_Pierced Window Screen453344.jpg', 'f00575_f00575_Piet   Vesperbild 470603.jpg', 'f00576_f00576_Pipa 503651.jpg', 'f00577_f00577_Pipe Organ503670.jpg', 'f00578_f00578_Pitcher14494.jpg', 'f00579_f00579_Planches pour l Encyclop die, ou pour le Dictionaire raisonn716648.jpg', 'f00580_f00580_Plaque with Agnus Dei on a Cross between Emblems of the Four Evangelists464360.jpg', 'f00581_f00581_Plaque with Censing Angels474263.jpg', 'f00582_f00582_Plaque with Christ Receiving Magdeburg Cathedral from Emperor Otto I 467730.jpg', 'f00583_f00583_Plaque with Saint John the Evangelist469837.jpg', 'f00584_f00584_Plaque with the Descent from the Cross464156.jpg', 'f00585_f00585_Plaque with the Holy Women at the Sepulchre466254.jpg', 'f00586_f00586_Plaque with the Journey to Emmaus and Noli Me Tangere464443.jpg', 'f00587_f00587_Plaque with the Pentecost470307.jpg', 'f00588_f00588_Plate with the Battle of David and Goliath464377.jpg', 'f00589_f00589_Porphyry vessel with bearded masks634951.jpg', 'f00590_f00590_Portal from the Church of San Leonardo al Frigido471911.jpg', 'f00591_f00591_Portions of a Costume Armor27790.jpg', 'f00592_f00592_Portrait of Alvise Contarini      verso  A Tethered Roebuck459028.jpg', 'f00593_f00593_Portrait of Gerard de Lairesse459082.jpg', 'f00594_f00594_Portrait of Jnanatapa Attended by Lamas and Mahasiddhas37801.jpg', 'f00595_f00595_Portrait of Monsieur Aublet505722.jpg', 'f00596_f00596_Portrait of Nicolas Trigault in Chinese Costume337844.jpg', 'f00597_f00597_Portrait of Shun oku My ha59669.jpg', 'f00598_f00598_Portrait of a Carthusian435896.jpg', 'f00599_f00599_Portrait of a Gentleman15588.jpg', 'f00600_f00600_Portrait of a Lady17447.jpg', 'f00601_f00601_Portrait of a Man, possibly Matteo di Sebastiano di Bernardino Gozzadini459037.jpg', 'f00602_f00602_Portrait of a Woman with a Man at a Casement436896.jpg', 'f00603_f00603_Portrait of a Woman, Possibly a Nun of San Secondo   verso  Scene in Grisaille459027.jpg', 'f00604_f00604_Portrait of a Woman, possibly Ginevra d Antonio Lupari Gozzadini459038.jpg', 'f00605_f00605_Portrait of a Young Man435802.jpg', 'f00606_f00606_Portrait of an Ecclesiastic337088.jpg', 'f00607_f00607_Portrait of the Boy Eutyches547951.jpg', 'f00608_f00608_Portrait of the Painter11383.jpg', 'f00609_f00609_Powder Horn24648.jpg', 'f00610_f00610_Pratiqve de la Guerre. Contenant l usage de l Artillerie, Bombes et Mortiers, Feux Artificiels et Petards, Sappes et Mines, Ponts et Pontons, Tranchees et Travaux, auec l ordre des Assauts aux Breches.jpg', 'f00611_f00611_Preparing Medicine from Honey , from a Dispersed Manuscript of an Arabic Translation of De Materia Medica of Dioscorides451400.jpg', 'f00612_f00612_Presentation Smallsword with Scabbard22932.jpg', 'f00613_f00613_Presentation Sword and Scabbard of Brigadier General Daniel Davis (1777 1814) of the New York Militia22769.jpg', 'f00614_f00614_Prisoners from the Front11133.jpg', 'f00615_f00615_Processional Cross464023.jpg', 'f00616_f00616_Processional Cross466251.jpg', 'f00617_f00617_Proposition concernant le payement et la police des troupes du roy, qui produira   Sa Majest  une finance de six millions deux cens soixante mille livres invent e et propos e par le baron de Sparre, circa 1740681274.jpg', 'f00618_f00618_Ptah Statue587598.jpg', 'f00619_f00619_Pyxis  Cylindrical Container 453576.jpg', 'f00620_f00620_Queen Esther Approaching the Palace of Ahasuerus336489.jpg', 'f00621_f00621_Queen Victoria12702.jpg', 'f00622_f00622_Quilt Top, Crazy pattern13647.jpg', 'f00623_f00623_Qur an Manuscript453024.jpg', 'f00624_f00624_R ponse aux plaintes des protestans touchant la pr tend e pe681386.jpg', 'f00625_f00625_Ram s head Amulet547771.jpg', 'f00626_f00626_Rapier of Prince-Elector Christian II of Saxony (1583 1611)24860.jpg', 'f00627_f00627_Rapport au roi sur la situation, au 31 mars, 1829, des canau681384.jpg', 'f00628_f00628_Raven rattle501227.jpg', 'f00629_f00629_Reading the News at the Weavers  Cottage337632.jpg', 'f00630_f00630_Reclining Female Nude337063.jpg', 'f00631_f00631_Rectangular Octave Virginal502325.jpg', 'f00632_f00632_Recueil de planches, sur les sciences, les arts lib raux, et707455.jpg', 'f00633_f00633_Regal505399.jpg', 'f00634_f00634_Relief of Nebhepetre Mentuhotep II and the Goddess Hathor548212.jpg', 'f00635_f00635_Relief of the Betrayal and Arrest of Jesus463973.jpg', 'f00636_f00636_Reliefs from the Tomb of Nespekashuty548338.jpg', 'f00637_f00637_Reliquary Bust of Saint Yrieix464333.jpg', 'f00638_f00638_Reliquary Casket with Scenes from the Martyrdom of Saint Thomas Becket464490.jpg', 'f00639_f00639_Reliquary Shrine470310.jpg', 'f00640_f00640_Reliquary Statuette of Saint Christopher464341.jpg', 'f00641_f00641_Restello459252.jpg', 'f00642_f00642_Riding coat81754.jpg', 'f00643_f00643_Ritual Figure547689.jpg', 'f00644_f00644_Ritual Statuette of Thutmose III547772.jpg', 'f00645_f00645_Road in Etten459193.jpg', 'f00646_f00646_Robe   l Anglaise81105.jpg', 'f00647_f00647_Robe   la Fran aise79893.jpg', 'f00648_f00648_Robe   la Fran aise83605.jpg', 'f00649_f00649_Robe  Kosode  with Shells and Sea Grasses50688.jpg', 'f00650_f00650_Rosette Bearing the Names and Titles of Shah Jahan , Folio from the Shah Jahan Album451286.jpg', 'f00651_f00651_Rough Waves44918.jpg', 'f00652_f00652_Round gown81127.jpg', 'f00653_f00653_Roundel with the Temptation of Saint Anthony469866.jpg', 'f00654_f00654_Rowel Spur22405.jpg', 'f00655_f00655_Rubens, His Wife Helena Fourment  1614 1673 , and Their Son Frans  1633 1678 437532.jpg', 'f00656_f00656_S  S m S i500928.jpg', 'f00657_f00657_Saada, the Wife of Abraham Ben Chimol, and Pr ciada, One of Their Daughters336046.jpg', 'f00658_f00658_Saber with Scabbard22871.jpg', 'f00659_f00659_Saber24320.jpg', 'f00660_f00660_Safavid Courtiers Leading Georgian Captives451092.jpg', 'f00661_f00661_Saint Andrew437675.jpg', 'f00662_f00662_Saint Anthony Abbot469913.jpg', 'f00663_f00663_Saint Anthony the Abbot in the Wilderness458967.jpg', 'f00664_f00664_Saint Catherine of Alexandria464707.jpg', 'f00665_f00665_Saint Guilhem Cloister472181.jpg', 'f00666_f00666_Saint James the Greater471884.jpg', 'f00667_f00667_Saint Jerome as Scholar459088.jpg', 'f00668_f00668_Saint John on Patmos435600.jpg', 'f00669_f00669_Saint Margaret of Antioch469836.jpg', 'f00670_f00670_Saint Nicholas Accuses the Consul from Scenes from the Life of Saint Nicholas469856.jpg', 'f00671_f00671_Saint Stephen466084.jpg', 'f00672_f00672_Saints Bartholomew and Simon459046.jpg', 'f00673_f00673_Sake Ewer (Hisage) with Chrysanthemums and Paulownia Crests in Alternating Fields44859.jpg', 'f00674_f00674_Sallet in the Shape of a Lion s Head22860.jpg', 'f00675_f00675_Salor Main Carpet452598.jpg', 'f00676_f00676_Saltcellar469879.jpg', 'f00677_f00677_Samson Captured by the Philistines436603.jpg', 'f00678_f00678_Samson and Delilah334769.jpg', 'f00679_f00679_San li tu715005.jpg', 'f00680_f00680_Satire on Art Criticism459210.jpg', 'f00681_f00681_Saz  style Drawing of a Dragon amid Foliage451405.jpg', 'f00682_f00682_Scalinata della Trinit  dei Monti337498.jpg', 'f00683_f00683_Scarab of the Storehouse Overseer Wah544228.jpg', 'f00684_f00684_Scenes from the Legend of Saint Vincent of Saragossa and the History of His Relics466580.jpg', 'f00685_f00685_Sea Dragon501492.jpg', 'f00686_f00686_Seated Bishop470315.jpg', 'f00687_f00687_Seated Statue of Hatshepsut544450.jpg', 'f00688_f00688_Seated Woman, Back View483434.jpg', 'f00689_f00689_Seated Woman459192.jpg', 'f00690_f00690_Self Portrait with a Straw Hat  obverse  The Potato Peeler 436532.jpg', 'f00691_f00691_Self Portrait, from  The Iconography 337062.jpg', 'f00692_f00692_Self Portrait437397.jpg', 'f00693_f00693_Self Portrait483438.jpg', 'f00694_f00694_Self portrait459254.jpg', 'f00695_f00695_Senwosret III as a Sphinx544186.jpg', 'f00696_f00696_Settee14488.jpg', 'f00697_f00697_Sgra Snyan503939.jpg', 'f00698_f00698_Shabti of Yuya548343.jpg', 'f00699_f00699_Shah Jahan on a Terrace, Holding a Pendant Set With His Portrait , Folio from the Shah Jahan Album451270.jpg', 'f00700_f00700_Shield for the Field or Tournament (Targe)22876.jpg', 'f00701_f00701_Shield of Henry II of France (reigned 1547 59)23948.jpg', 'f00702_f00702_Shield24693.jpg', 'f00703_f00703_Shoes79101.jpg', 'f00704_f00704_Short Sword (Yatagan) from the Court of Suleyman the Magnificent (reigned 1520 66)24953.jpg', 'f00705_f00705_Shrine of the Virgin464142.jpg', 'f00706_f00706_Sibylle435984.jpg', 'f00707_f00707_Side Drum503818.jpg', 'f00708_f00708_Silk Animal Carpet446642.jpg', 'f00709_f00709_Silk Kashan Carpet451470.jpg', 'f00710_f00710_Soap Bubbles435888.jpg', 'f00711_f00711_Soprano Recorder in B501523.jpg', 'f00712_f00712_Sphinx of Amenhotep III, possibly from a Model of a Temple544498.jpg', 'f00713_f00713_Sphinx of Hatshepsut544442.jpg', 'f00714_f00714_Spinet503043.jpg', 'f00715_f00715_Spring Blossoms, Montclair, New Jersey11234.jpg', 'f00716_f00716_Square Headed Bow Brooch466124.jpg', 'f00717_f00717_Square Piano503678.jpg', 'f00718_f00718_Stage Fort across Gloucester Harbor11396.jpg', 'f00719_f00719_Standing Buddha Offering Protection38198.jpg', 'f00720_f00720_Standing Cup and Cover Supported by an Enchained Turk459248.jpg', 'f00721_f00721_Standing Figure with Jeweled Headdress451909.jpg', 'f00722_f00722_Standing Virgin and Child466287.jpg', 'f00723_f00723_Standing figure of Amenhotep III544478.jpg', 'f00724_f00724_Star Ushak Carpet447568.jpg', 'f00725_f00725_Statue of Seated Imhotep548300.jpg', 'f00726_f00726_Statue of a goddess, probably Nehemetaui or Nebethetepet553045.jpg', 'f00727_f00727_Statue of two men and a boy that served as a domestic icon544683.jpg', 'f00728_f00728_Statuette of Amun544874.jpg', 'f00729_f00729_Statuette of Isis and Horus548310.jpg', 'f00730_f00730_Statuette of Kary545870.jpg', 'f00731_f00731_Statuette of a Royal      Woman with the Cartouches of Necho II on her Arms546746.jpg', 'f00732_f00732_Statuette of the Child Amenemhab544451.jpg', 'f00733_f00733_Statuette of the Goddess Taweret544864.jpg', 'f00734_f00734_Statuette of the lady Tiye544524.jpg', 'f00735_f00735_Stela of the Steward Mentuwoser544320.jpg', 'f00736_f00736_Stelophorous Statue of Bay554769.jpg', 'f00737_f00737_Still Life with Apples and a Pot of Primroses435882.jpg', 'f00738_f00738_Still Life with Cake11737.jpg', 'f00739_f00739_Strand of Beads450818.jpg', 'f00740_f00740_Straw475516.jpg', 'f00741_f00741_Striding Figure543903.jpg', 'f00742_f00742_Striding Thoth544092.jpg', 'f00743_f00743_Studies for the Libyan Sibyl  recto   Studies for the Libyan Sibyl and a small Sketch for a Seated Figure  verso 337497.jpg', 'f00744_f00744_Study for  A Sunday on La Grande Jatte 437658.jpg', 'f00745_f00745_Study for  Poseuses 459191.jpg', 'f00746_f00746_Study for the Equestrian Monument to Francesco Sforza459186.jpg', 'f00747_f00747_Study of a Young Woman437879.jpg', 'f00748_f00748_Sudden Shower over Shin Ohashi Bridge and Atake (Ohashi Atake no yudachi), from the series One Hundred Famous Views of Edo (Meisho Edo hyakkei)37094.jpg', 'f00749_f00749_Suit79048.jpg', 'f00750_f00750_Suit81134.jpg', 'f00751_f00751_Summer Morning337699.jpg', 'f00752_f00752_Summer Mountains39915.jpg', 'f00753_f00753_Susan Walker Morse (The Muse)11605.jpg', 'f00754_f00754_Sutra box with dragons amid clouds60870.jpg', 'f00755_f00755_Suzu500655.jpg', 'f00756_f00756_Sword Guard (Tsuba)24623.jpg', 'f00757_f00757_Sword Guard in the Form of Confronted Dragons56220.jpg', 'f00758_f00758_Sword and Scabbard470298.jpg', 'f00759_f00759_Sword23367.jpg', 'f00760_f00760_T ngg      500605.jpg', 'f00761_f00761_Ta s  mayuri 500709.jpg', 'f00762_f00762_Tabernacle House Altar with the Adoration of the Shepherds, the Adoration of the Magi, and the Annunciation.459249.jpg', 'f00763_f00763_Tabernacle frame459204.jpg', 'f00764_f00764_Tabernacle of Cherves464604.jpg', 'f00765_f00765_Tahitian Faces  Frontal View and Profiles 337172.jpg', 'f00766_f00766_Tahmuras Defeats the Divs , Folio 23v from the Shahnama  Book of Kings  of Shah Tahmasp452112.jpg', 'f00767_f00767_Tapestry with Dragons and Flowers39733.jpg', 'f00768_f00768_Tapestry with the Annunciation468106.jpg', 'f00769_f00769_Textile Fragment448232.jpg', 'f00770_f00770_The  Nigde  Carpet451367.jpg', 'f00771_f00771_The  Simonetti  Carpet452100.jpg', 'f00772_f00772_The Abduction of Rebecca438814.jpg', 'f00773_f00773_The Abduction of the Sabine Women437329.jpg', 'f00774_f00774_The Adoration of the Magi436504.jpg', 'f00775_f00775_The Adoration of the Magi458956.jpg', 'f00776_f00776_The Adoration of the Shepherds436966.jpg', 'f00777_f00777_The Adoration of the Shepherds470600.jpg', 'f00778_f00778_The American School11797.jpg', 'f00779_f00779_The Angel Gabriel meets  Amr ibn Zaid  the Shepherd  , Folio from a Siyer i Nebi  the Life of the Prophet 453351.jpg', 'f00780_f00780_The Anhalt Medallion Carpet450716.jpg', 'f00781_f00781_The Annunciation to Zacharias   verso  The Angel of the Annunciation458977.jpg', 'f00782_f00782_The Annunciation459016.jpg', 'f00783_f00783_The Annunciation459055.jpg', 'f00784_f00784_The Antioch  Chalice 468346.jpg', 'f00785_f00785_The Antonius  Violin503008.jpg', 'f00786_f00786_The Assumption of the Virgin458998.jpg', 'f00787_f00787_The Beeches10786.jpg', 'f00788_f00788_The Belles Heures of Jean de France, duc de Berry470306.jpg', 'f00789_f00789_The Betrothal of the Virgin459237.jpg', 'f00790_f00790_The Bishop collection  investigations and studies in jade680379.jpg', 'f00791_f00791_The Burial of Punchinello459187.jpg', 'f00792_f00792_The Calm Sea436005.jpg', 'f00793_f00793_The Card Players435868.jpg', 'f00794_f00794_The Champion Single Sculls (Max Schmitt in a Single Scull)10819.jpg', 'f00795_f00795_The Cloisters Cross470305.jpg', 'f00796_f00796_The Cloisters Playing Cards475513.jpg', 'f00797_f00797_The Concourse of the Birds , Folio 11r from a Mantiq al tair  Language of the Birds 451725.jpg', 'f00798_f00798_The Coronation of the Virgin435853.jpg', 'f00799_f00799_The Coronation of the Virgin458961.jpg', 'f00800_f00800_The Creation of the World and the Expulsion from Paradise458971.jpg', 'f00801_f00801_The Crucifixion  The Last Judgment436282.jpg', 'f00802_f00802_The Crucifixion with the Virgin and Saint John435817.jpg', 'f00803_f00803_The Crucifixion438605.jpg', 'f00804_f00804_The Crucifixion471904.jpg', 'f00805_f00805_The Dance Class438817.jpg', 'f00806_f00806_The Death of Socrates436105.jpg', 'f00807_f00807_The Denial of Saint Peter437986.jpg', 'f00808_f00808_The Doorway365017.jpg', 'f00809_f00809_The Dream of the Shepherd  Der Traum des Hirten 634108.jpg', 'f00810_f00810_The Eavesdropper , Folio 47r from a Haft Paikar  Seven Portraits  of the Khamsa  Quintet  of Nizami455059.jpg', 'f00811_f00811_The Elephant Clock , Folio from a Book of the Knowledge of Ingenious Mechanical Devices by al Jazari451402.jpg', 'f00812_f00812_The Emperor s Carpet450509.jpg', 'f00813_f00813_The Englishman  William Tom Warrener, 1861 1934  at the Moulin Rouge437835.jpg', 'f00814_f00814_The Entombment of Christ631985.jpg', 'f00815_f00815_The Entrance Hall of the Regensburg Synagogue336256.jpg', 'f00816_f00816_The Falls of Niagara11080.jpg', 'f00817_f00817_The Feast of Herod and the Beheading of the Baptist459045.jpg', 'f00818_f00818_The Feast of Sada , Folio 22v from the Shahnama  Book of Kings  of Shah Tahmasp452111.jpg', 'f00819_f00819_The Fieschi Morgan Staurotheke472562.jpg', 'f00820_f00820_The Flower Girl11207.jpg', 'f00821_f00821_The Forest in Winter at Sunset438816.jpg', 'f00822_f00822_The Fortune Teller436838.jpg', 'f00823_f00823_The Francesca  Violin503010.jpg', 'f00824_f00824_The Freedman13134.jpg', 'f00825_f00825_The Funeral of Isfandiyar , Folio from a Shahnama  Book of Kings 448938.jpg', 'f00826_f00826_The Genius of Castiglione335668.jpg', 'f00827_f00827_The Gould  Violin503045.jpg', \"f00828_f00828_The Great Statue of Amida Buddha at Kamakura, Known as the Daibutsu, from the Priest's Garden11375.jpg\", 'f00829_f00829_The Gulf Stream11122.jpg', 'f00830_f00830_The Harvesters435809.jpg', 'f00831_f00831_The Hatch Family11263.jpg', 'f00832_f00832_The Head of the Virgin in Three Quarter View Facing Right337496.jpg', 'f00833_f00833_The Holy Family with Saints Anne and Catherine of Alexandria437455.jpg', 'f00834_f00834_The Holy Family with the Young Saint John the Baptist437609.jpg', 'f00835_f00835_The Horse Fair435702.jpg', 'f00836_f00836_The Hours of Jeanne d Evreux, Queen of France470309.jpg', 'f00837_f00837_The House of Bijapur453183.jpg', 'f00838_f00838_The Indian Hunter13137.jpg', 'f00839_f00839_The Italian school of design   being a series of fac similes787771.jpg', 'f00840_f00840_The Judgment of Paris, he is sitting at left with Venus, Juno and Pallas Athena, a winged victory above.jpg', 'f00841_f00841_The Judgment of Paris436037.jpg', \"f00842_f00842_The Kangxi Emperor's Southern Inspection Tour, Scroll Three.jpg\", 'f00843_f00843_The Kaunitz Sisters  Leopoldine, Caroline, and Ferdinandine 334710.jpg', 'f00844_f00844_The Lake of Zug337499.jpg', 'f00845_f00845_The Last Communion of Saint Jerome435728.jpg', 'f00846_f00846_The Last Supper, after Leonardo da Vinci459194.jpg', 'f00847_f00847_The Last Supper459131.jpg', 'f00848_f00848_The Last Supper459205.jpg', 'f00849_f00849_The Love Letter436322.jpg', 'f00850_f00850_The Love Song435826.jpg', 'f00851_f00851_The Lovers451023.jpg', 'f00852_f00852_The Martyrdom of Saint Paul459188.jpg', 'f00853_f00853_The Massachusetts Magazine, or, Monthly Museum of Knowledge and Rational Entertainment591868.jpg', 'f00854_f00854_The Meditation on the Passion435851.jpg', 'f00855_f00855_The Monet Family in Their Garden at Argenteuil.jpg', 'f00856_f00856_The Mountain Man11865.jpg', 'f00857_f00857_The Musicians435844.jpg', 'f00858_f00858_The Nativity459007.jpg', 'f00859_f00859_The New Bonnet10843.jpg', 'f00860_f00860_The Parthenon10482.jpg', 'f00861_f00861_The Penitence of Saint Jerome437261.jpg', 'f00862_f00862_The Puritan12015.jpg', 'f00863_f00863_The Rest on the Flight into Egypt436101.jpg', 'f00864_f00864_The Right Hand of God Protecting the Faithful against the Demons459207.jpg', \"f00865_f00865_The Rocky Mountains, Lander's Peak10154.jpg\", 'f00866_f00866_The Round Tower, from  Carceri d invenzione   Imaginary Prisons 337725.jpg', 'f00867_f00867_The Royal Acquaintances Memi and Sabu543899.jpg', 'f00868_f00868_The Shepherd s Song437344.jpg', 'f00869_f00869_The Sixteen Luohans48948.jpg', 'f00870_f00870_The Sortie Made by the Garrison of Gibraltar12828.jpg', 'f00871_f00871_The Story of the Princess of the Blue Pavillion  The Youth of Rum Is Entertained in a Garden by a Fairy and her Maidens , Folio from a Khamsa  Quintet  of Amir Khusrau Dihlavi446567.jpg', 'f00872_f00872_The Temple of Dendur547802.jpg', 'f00873_f00873_The Theory and Practice of Gardening   Wherein is Fully Handled all that Relates to Fine Gardens, Commonly called Pleasure Gardens, as Parterres, Groves 591839.jpg', 'f00874_f00874_The Thinker191811.jpg', 'f00875_f00875_The Third Class Carriage436095.jpg', 'f00876_f00876_The Titan s Goblet10499.jpg', 'f00877_f00877_The Toilette of Venus435739.jpg', 'f00878_f00878_The Touchstone and the American art student magazine, Volume755011.jpg', 'f00879_f00879_The Trojan Women Setting Fire to Their Fleet435908.jpg', 'f00880_f00880_The Trout Pool13315.jpg', 'f00881_f00881_The Unicorn in Captivity  from the Unicorn Tapestries 467642.jpg', 'f00882_f00882_The Unicorn is Found  from the Unicorn Tapestries 467638.jpg', 'f00883_f00883_The Valley of Wyoming10586.jpg', 'f00884_f00884_The Virgin Mary and Five Standing Saints above Predella Panels473007.jpg', 'f00885_f00885_The Virgin of Guadalupe with the Four Apparitions635401.jpg', 'f00886_f00886_The Visitation464596.jpg', 'f00887_f00887_The White Captive11680.jpg', 'f00888_f00888_The Whole Art of Marbling as Applied to Paper, Book Edges, etc.591856.jpg', 'f00889_f00889_The Young Virgin437971.jpg', 'f00890_f00890_The cabinet maker and upholsterer s drawing book, in three p700232.jpg', 'f00891_f00891_The cabinet makers  London book of prices, and designs of ca700238.jpg', 'f00892_f00892_The grammar of ornament700091.jpg', 'f00893_f00893_The life of Henry the Fourth of France, translated from the 681504.jpg', 'f00894_f00894_The song of Hiawatha738765.jpg', 'f00895_f00895_Theatrvm pictorivm   in quo exhibentur ipsius manu delineat 769306.jpg', 'f00896_f00896_Theodosius Arrives at Ephesus, from a Scene from the Legend of the Seven Sleepers of Ephesus469857.jpg', 'f00897_f00897_Three Standing Figures  recto   Seated Woman and a Male Hermit in Half length  verso 337894.jpg', 'f00898_f00898_Three Virtues  Temperance, Hope, and Fortitude or Justice  and Studies of a Seated Man459234.jpg', 'f00899_f00899_Tile with Floral and Cloud band Design444897.jpg', 'f00900_f00900_Tip of a Pointer466296.jpg', 'f00901_f00901_Tiraz Textile Fragment448294.jpg', 'f00902_f00902_Tomb Effigy Bust of Marie de France  1327 41 , daughter of Charles IV of France and Jeanne d Evreux467705.jpg', 'f00903_f00903_Tomb of Ermengol VII, Count of Urgell472387.jpg', 'f00904_f00904_Tommaso di Folco Portinari  1428 1501   Maria Portinari  Maria Maddalena Baroncelli, born 1456 437056.jpg', 'f00905_f00905_Tondo mirror frame459206.jpg', 'f00906_f00906_Torso of a Bodhisattva38648.jpg', 'f00907_f00907_Torso of a High General548360.jpg', 'f00908_f00908_Trait  de Plutarque, sur la mani re de discerner un flatteur681388.jpg', 'f00909_f00909_Transverse Flute in D flat501534.jpg', 'f00910_f00910_Transverse Flute in D flat504019.jpg', 'f00911_f00911_Transverse Flute504256.jpg', 'f00912_f00912_Travelling Boat being Rowed544214.jpg', 'f00913_f00913_Trees and Houses Near the Jas de Bouffan459092.jpg', 'f00914_f00914_Trefoil shaped covered box with decoration of chrysanthemums39957.jpg', 'f00915_f00915_Tughra  Insignia  of Sultan S leiman the Magnificent 1520 66 449533.jpg', 'f00916_f00916_Tughra  Insignia  of Sultan S leiman the Magnificent 1520 66 449534.jpg', 'f00917_f00917_Turquoise Bowl with Lute Player and Audience451444.jpg', 'f00918_f00918_Twilight on the Sound, Darien, Connecticut11329.jpg', 'f00919_f00919_Two Men Contemplating the Moon438417.jpg', 'f00920_f00920_Uffizio della Settimana Santa   colle rubriche volgari, argo681389.jpg', 'f00921_f00921_Under the Wave off Kanagawa, Kanagawa oki nami ura, also known as The Great Wave, from the series Thirty six Views of Mount Fuji45434.jpg', 'f00922_f00922_Unfinished Stela of Amennkhat of Deir el Medina544766.jpg', 'f00923_f00923_Unique Forms of Continuity in Space485540.jpg', 'f00924_f00924_Unlined Summer Kimono (Hito e) with Plovers in Flight over Stylized Waves.jpg', 'f00925_f00925_Variations in Violet and Grey Market Place, Dieppe16863.jpg', 'f00926_f00926_Vase42229.jpg', 'f00927_f00927_Velvet Panel with Flowering Plants446218.jpg', 'f00928_f00928_Velvet with Figural Imagery451091.jpg', 'f00929_f00929_Venezia16578.jpg', 'f00930_f00930_Venice, from the Porch of Madonna della Salute437853.jpg', 'f00931_f00931_Venus and Adonis437826.jpg', 'f00932_f00932_Venus and Cupid436918.jpg', 'f00933_f00933_Victory12019.jpg', 'f00934_f00934_View from Mount Holyoke, Northampton, Massachusetts, after a Thunderstorm The Oxbow10497.jpg', 'f00935_f00935_View of Heidelberg337489.jpg', 'f00936_f00936_View of Toledo436575.jpg', 'f00937_f00937_Viking Sword24832.jpg', 'f00938_f00938_Viola d Amore505786.jpg', 'f00939_f00939_Viola da Gamba503219.jpg', 'f00940_f00940_Violin503443.jpg', 'f00941_f00941_Violoncello505461.jpg', 'f00942_f00942_Virgin and Child in Majesty463795.jpg', 'f00943_f00943_Virgin and Child with Saint Anne436244.jpg', 'f00944_f00944_Virgin and Child437175.jpg', 'f00945_f00945_Virgin and Child467594.jpg', 'f00946_f00946_Virgin of the Annunciation464607.jpg', 'f00947_f00947_Virgin473047.jpg', 'f00948_f00948_Votive stela of Userhat544776.jpg', 'f00949_f00949_Waistcoat81136.jpg', 'f00950_f00950_Walking Stick Flute Oboe504497.jpg', 'f00951_f00951_Walking ensemble81108.jpg', 'f00952_f00952_Wang Xizhi watching geese40081.jpg', 'f00953_f00953_Warwick Castle  The East Front459183.jpg', 'f00954_f00954_Washington Crossing the Delaware11417.jpg', 'f00955_f00955_Watch459201.jpg', 'f00956_f00956_Water Bottle from Tutankhamun s Embalming Cache544781.jpg', 'f00957_f00957_Water moon Avalokiteshvara36029.jpg', 'f00958_f00958_Wave56186.jpg', 'f00959_f00959_Waves on Moonlight45075.jpg', 'f00960_f00960_Wedding ensemble81137.jpg', 'f00961_f00961_Wedding ensemble82879.jpg', 'f00962_f00962_Whalers437854.jpg', 'f00963_f00963_Wheat Field with Cypresses436535.jpg', 'f00964_f00964_Wheat Fields437549.jpg', 'f00965_f00965_Whip Handle in the Shape of a Horse544853.jpg', 'f00966_f00966_Wing Brooch469961.jpg', 'f00967_f00967_Winter Scene in Moonlight16577.jpg', 'f00968_f00968_Woman Having Her Hair Combed436173.jpg', 'f00969_f00969_Woman with a Parrot436002.jpg', 'f00970_f00970_Writing board544319.jpg', 'f00971_f00971_Yaksha38468.jpg', 'f00972_f00972_Young Ladies of the Village438820.jpg', 'f00973_f00973_Young Lady in 1866436964.jpg', 'f00974_f00974_Young Man and Woman in an Inn436616.jpg', 'f00975_f00975_Young Woman with a Water Pitcher437881.jpg', 'f00976_f00976_Youth Playing a Pipe for a Satyr335663.jpg', 'f00977_f00977_Yuny and His Wife Renenutet544740.jpg', 'f00978_f00978_Zao Gongen39707.jpg', 'f00979_f00979_ex  Kurtz  Violin503517.jpg']\n"
     ]
    }
   ],
   "source": [
    "files = os.listdir(\"CroppedSprit/\")\n",
    "files.sort()\n",
    "print(files)"
   ]
  },
  {
   "cell_type": "code",
   "execution_count": 16,
   "metadata": {},
   "outputs": [
    {
     "name": "stdout",
     "output_type": "stream",
     "text": [
      "f00617_f00617_Proposition concernant le payement et la police des troupes du roy, qui produira   Sa Majest  une finance de six millions deux cens soixante mille livres invent e et propos e par le baron de Sparre, circa 1740681274.jpg is not a valid image\n",
      "896\n",
      "868.0\n"
     ]
    }
   ],
   "source": [
    "for current_file in files :\n",
    "    try:\n",
    "        with Image.open(\"CroppedSprit/\" + current_file) as im :\n",
    "            frames.append(im.getdata())\n",
    "    except:\n",
    "        print(current_file + \" is not a valid image\")\n",
    "\n",
    "tile_width = frames[0].size[0]\n",
    "tile_height = frames[0].size[1]\n",
    "\n",
    "if len(frames) > max_frames_row :\n",
    "    spritesheet_width = tile_width * max_frames_row\n",
    "    required_rows = math.ceil(len(frames)/max_frames_row)\n",
    "    spritesheet_height = tile_height * required_rows\n",
    "else:\n",
    "    spritesheet_width = tile_width*len(frames)\n",
    "    spritesheet_height = tile_height\n",
    "    \n",
    "print(spritesheet_height)\n",
    "print(spritesheet_width)"
   ]
  },
  {
   "cell_type": "code",
   "execution_count": 17,
   "metadata": {},
   "outputs": [],
   "source": [
    "spritesheet = Image.new(\"RGBA\",(int(spritesheet_width), int(spritesheet_height)))\n",
    "\n",
    "for current_frame in frames :\n",
    "    top = tile_height * math.floor((frames.index(current_frame))/max_frames_row)\n",
    "    left = tile_width * (frames.index(current_frame) % max_frames_row)\n",
    "    bottom = top + tile_height\n",
    "    right = left + tile_width\n",
    "    \n",
    "    box = (left,top,right,bottom)\n",
    "    box = [int(i) for i in box]\n",
    "    cut_frame = current_frame.crop((0,0,tile_width,tile_height))\n",
    "    \n",
    "    spritesheet.paste(cut_frame, box)\n",
    "    \n",
    "spritesheet.save(\"spritesheet\" + time.strftime(\"%Y-%m-%dT%H-%M-%S\") + \".png\", \"PNG\")"
   ]
  },
  {
   "cell_type": "markdown",
   "metadata": {},
   "source": [
    "### Create a metadata file to relate index with filename"
   ]
  },
  {
   "cell_type": "code",
   "execution_count": 30,
   "metadata": {},
   "outputs": [
    {
     "data": {
      "text/plain": [
       "'A Bear Walking459184'"
      ]
     },
     "execution_count": 30,
     "metadata": {},
     "output_type": "execute_result"
    }
   ],
   "source": [
    "files[1][14:-4]"
   ]
  },
  {
   "cell_type": "code",
   "execution_count": 31,
   "metadata": {},
   "outputs": [],
   "source": [
    "labels = []\n",
    "\n",
    "for marquilla in files:\n",
    "    labels.append(marquilla[14:-4])"
   ]
  },
  {
   "cell_type": "code",
   "execution_count": null,
   "metadata": {},
   "outputs": [],
   "source": [
    "with open(embedding.metadata_path, 'w') as meta:\n",
    "    meta.write('Index\\tLabel\\n')\n",
    "    for index, label in enumerate(labels):\n",
    "        meta.write('{}\\t{}\\n'.format(index, label))"
   ]
  }
 ],
 "metadata": {
  "kernelspec": {
   "display_name": "Python 3",
   "language": "python",
   "name": "python3"
  },
  "language_info": {
   "codemirror_mode": {
    "name": "ipython",
    "version": 3
   },
   "file_extension": ".py",
   "mimetype": "text/x-python",
   "name": "python",
   "nbconvert_exporter": "python",
   "pygments_lexer": "ipython3",
   "version": "3.8.3"
  }
 },
 "nbformat": 4,
 "nbformat_minor": 2
}
